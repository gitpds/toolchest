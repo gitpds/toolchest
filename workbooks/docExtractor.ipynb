{
 "cells": [
  {
   "cell_type": "code",
   "execution_count": 3,
   "metadata": {},
   "outputs": [
    {
     "name": "stdout",
     "output_type": "stream",
     "text": [
      "Document Extractor Scratch\n"
     ]
    }
   ],
   "source": [
    "print('Document Extractor Scratch')"
   ]
  },
  {
   "cell_type": "code",
   "execution_count": 4,
   "metadata": {},
   "outputs": [],
   "source": [
    "from thepipe_api import thepipe\n",
    "import openai\n",
    "import os\n",
    "from dotenv import load_dotenv\n",
    "\n",
    "load_dotenv()\n",
    "openai.api_key = os.getenv('OPENAI_API_KEY')"
   ]
  },
  {
   "cell_type": "code",
   "execution_count": null,
   "metadata": {},
   "outputs": [],
   "source": [
    "wb1 = './source/523wb1.pdf'\n",
    "wb2 = './source/523wb2.pdf'\n",
    "pairl = './source/PAIRL.docx'\n",
    "acme = './source/acme.docx'\n",
    "\n",
    "# Extract comprehensive text + visuals from anywhere\n",
    "wb1ex = thepipe.extract(wb1)\n",
    "wb2ex = thepipe.extract(wb2)\n",
    "pairlex = thepipe.extract(pairl) \n",
    "acmeex = thepipe.extract(acme)\n",
    "\n",
    "# To make the hard stuff easy\n",
    "response = openai.ChatCompletion.create(\n",
    "    model=\"gpt-4-vision-preview\",\n",
    "    messages=[\n",
    "        {\"role\": \"system\", \"content\": outline},\n",
    "        {\"role\": \"system\", \"content\": rubric},\n",
    "        {\"role\": \"system\", \"content\": handin},\n",
    "        {\"role\": \"user\", \"content\": \"Grade the handin and give feedback.\"}\n",
    "    ]\n",
    ")\n",
    "\n",
    "print(response)"
   ]
  }
 ],
 "metadata": {
  "kernelspec": {
   "display_name": "pdsai_env",
   "language": "python",
   "name": "python3"
  },
  "language_info": {
   "codemirror_mode": {
    "name": "ipython",
    "version": 3
   },
   "file_extension": ".py",
   "mimetype": "text/x-python",
   "name": "python",
   "nbconvert_exporter": "python",
   "pygments_lexer": "ipython3",
   "version": "3.8.18"
  }
 },
 "nbformat": 4,
 "nbformat_minor": 2
}
