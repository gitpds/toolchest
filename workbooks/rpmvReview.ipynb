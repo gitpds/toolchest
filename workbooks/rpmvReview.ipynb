{
 "cells": [
  {
   "cell_type": "code",
   "execution_count": 1,
   "metadata": {},
   "outputs": [
    {
     "name": "stdout",
     "output_type": "stream",
     "text": [
      "Document Extractor Scratch\n"
     ]
    }
   ],
   "source": [
    "print('Document Extractor Scratch')"
   ]
  },
  {
   "cell_type": "code",
   "execution_count": 2,
   "metadata": {},
   "outputs": [],
   "source": [
    "from thepipe_api import thepipe\n",
    "import openai\n",
    "import os\n",
    "from dotenv import load_dotenv\n",
    "\n",
    "load_dotenv()\n",
    "openai.api_key = os.getenv('OPENAI_API_KEY')\n"
   ]
  },
  {
   "cell_type": "code",
   "execution_count": 4,
   "metadata": {},
   "outputs": [
    {
     "ename": "NameError",
     "evalue": "name 'OpenAI' is not defined",
     "output_type": "error",
     "traceback": [
      "\u001b[0;31m---------------------------------------------------------------------------\u001b[0m",
      "\u001b[0;31mNameError\u001b[0m                                 Traceback (most recent call last)",
      "Cell \u001b[0;32mIn[4], line 32\u001b[0m\n\u001b[1;32m     25\u001b[0m query \u001b[38;5;241m=\u001b[39m [{\u001b[38;5;124m'\u001b[39m\u001b[38;5;124mrole\u001b[39m\u001b[38;5;124m'\u001b[39m: \u001b[38;5;124m'\u001b[39m\u001b[38;5;124muser\u001b[39m\u001b[38;5;124m'\u001b[39m, \u001b[38;5;124m'\u001b[39m\u001b[38;5;124mcontent\u001b[39m\u001b[38;5;124m'\u001b[39m: \u001b[38;5;124m'\u001b[39m\u001b[38;5;124mPlease describle these documents \u001b[39m\u001b[38;5;124m'\u001b[39m}]\n\u001b[1;32m     28\u001b[0m messages \u001b[38;5;241m=\u001b[39m aug23ex \u001b[38;5;241m+\u001b[39m sep23ex \u001b[38;5;241m+\u001b[39m oct23ex \u001b[38;5;241m+\u001b[39m nov23ex \u001b[38;5;241m+\u001b[39m dec23ex \u001b[38;5;241m+\u001b[39m jan24ex \u001b[38;5;241m+\u001b[39m feb24ex \u001b[38;5;241m+\u001b[39m mar24ex \u001b[38;5;241m+\u001b[39m yearend23ex \u001b[38;5;241m+\u001b[39m query\n\u001b[0;32m---> 32\u001b[0m openai_client \u001b[38;5;241m=\u001b[39m \u001b[43mOpenAI\u001b[49m()\n\u001b[1;32m     33\u001b[0m response \u001b[38;5;241m=\u001b[39m openai_client\u001b[38;5;241m.\u001b[39mchat\u001b[38;5;241m.\u001b[39mcompletions\u001b[38;5;241m.\u001b[39mcreate(\n\u001b[1;32m     34\u001b[0m     model\u001b[38;5;241m=\u001b[39m\u001b[38;5;124m\"\u001b[39m\u001b[38;5;124mgpt-4-vision-preview\u001b[39m\u001b[38;5;124m\"\u001b[39m,\n\u001b[1;32m     35\u001b[0m     messages \u001b[38;5;241m=\u001b[39m messages\n\u001b[1;32m     36\u001b[0m )\n\u001b[1;32m     39\u001b[0m chatReturn \u001b[38;5;241m=\u001b[39m response\n",
      "\u001b[0;31mNameError\u001b[0m: name 'OpenAI' is not defined"
     ]
    }
   ],
   "source": [
    "aug23 = './source/rpmv23aug.pdf'\n",
    "sep23 = './source/rpmv23sep.pdf'\n",
    "oct23 = './source/rpmv23oct.pdf'\n",
    "nov23 = './source/rpmv23nov.pdf'\n",
    "dec23 = './source/rpmv23dec.pdf'\n",
    "jan24 = './source/rpmv24jan.pdf'\n",
    "feb24 = './source/rpmv24feb.pdf'\n",
    "mar24 = './source/rpmv24march.pdf'\n",
    "yearend23 = './source/rpmv23yearend.pdf'\n",
    "# Extract comprehensive text + visuals from anywhere\n",
    "\n",
    "aug23ex = thepipe.extract(aug23, local=True)\n",
    "sep23ex = thepipe.extract(sep23, local=True)\n",
    "oct23ex = thepipe.extract(oct23, local=True)\n",
    "nov23ex = thepipe.extract(nov23, local=True)\n",
    "dec23ex = thepipe.extract(dec23, local=True)\n",
    "jan24ex = thepipe.extract(jan24, local=True)\n",
    "feb24ex = thepipe.extract(feb24, local=True)\n",
    "mar24ex = thepipe.extract(mar24, local=True)\n",
    "yearend23ex = thepipe.extract(yearend23, local=True)\n",
    "\n",
    "\n",
    "\n",
    "\n",
    "query = [{'role': 'user', 'content': 'Please describle these documents '}]\n",
    "\n",
    "\n",
    "messages = aug23ex + sep23ex + oct23ex + nov23ex + dec23ex + jan24ex + feb24ex + mar24ex + yearend23ex + query\n",
    "\n",
    "\n",
    "\n",
    "openai_client = OpenAI()\n",
    "response = openai_client.chat.completions.create(\n",
    "    model=\"gpt-4-vision-preview\",\n",
    "    messages = messages\n",
    ")\n",
    "\n",
    "\n",
    "chatReturn = response\n",
    "print(chatReturn.choices[0].message.content)\n"
   ]
  },
  {
   "cell_type": "code",
   "execution_count": null,
   "metadata": {},
   "outputs": [],
   "source": [
    "p"
   ]
  }
 ],
 "metadata": {
  "kernelspec": {
   "display_name": "pdsai_env",
   "language": "python",
   "name": "python3"
  },
  "language_info": {
   "codemirror_mode": {
    "name": "ipython",
    "version": 3
   },
   "file_extension": ".py",
   "mimetype": "text/x-python",
   "name": "python",
   "nbconvert_exporter": "python",
   "pygments_lexer": "ipython3",
   "version": "3.8.18"
  }
 },
 "nbformat": 4,
 "nbformat_minor": 2
}
