{
 "cells": [
  {
   "cell_type": "code",
   "execution_count": null,
   "metadata": {},
   "outputs": [],
   "source": [
    "# ====== Extract text from PDF ======\n",
    "\n",
    "from google.cloud import vision\n",
    "import pdf2image\n",
    "import io\n",
    "\n",
    "def extract_text_from_pdf(pdf_file):\n",
    "    \"\"\"Extracts text from a PDF document using the Google Cloud Vision API.\n",
    "\n",
    "    Args:\n",
    "        pdf_file: The path to the PDF file.\n",
    "\n",
    "    Returns:\n",
    "        A string containing the text extracted from the PDF file.\n",
    "    \"\"\"\n",
    "\n",
    "    client = vision.ImageAnnotatorClient()\n",
    "\n",
    "    # Convert PDF to list of images\n",
    "    images = pdf2image.convert_from_path(pdf_file)\n",
    "\n",
    "    extracted_text = \"\"\n",
    "\n",
    "    for img in images:\n",
    "        # Convert PIL Image to bytes\n",
    "        img_byte_arr = io.BytesIO()\n",
    "        img.save(img_byte_arr, format='PNG')\n",
    "        img_byte_arr = img_byte_arr.getvalue()\n",
    "\n",
    "        image = vision.Image(content=img_byte_arr)\n",
    "\n",
    "        response = client.text_detection(image=image)\n",
    "        if response.text_annotations:\n",
    "            extracted_text += response.text_annotations[0].description + \"\\n\"\n",
    "\n",
    "\n",
    "    # # output to text file\n",
    "    # text_file = pdf_file.split('.')[0] + '.txt'\n",
    "    # with open(text_file, 'w') as f:\n",
    "    #     f.write(extracted_text)\n",
    "\n",
    "    # #output to csv file\n",
    "    # csv_file = pdf_file.split('.')[0] + '.csv'\n",
    "    # with open(csv_file, 'w') as f:\n",
    "    #     f.write(extracted_text)\n",
    "\n",
    "\n",
    "    return extracted_text\n"
   ]
  }
 ],
 "metadata": {
  "language_info": {
   "name": "python"
  },
  "orig_nbformat": 4
 },
 "nbformat": 4,
 "nbformat_minor": 2
}
