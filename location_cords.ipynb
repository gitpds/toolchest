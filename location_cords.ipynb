{
 "cells": [
  {
   "cell_type": "code",
   "execution_count": 5,
   "metadata": {},
   "outputs": [
    {
     "name": "stdout",
     "output_type": "stream",
     "text": [
      "/home/pds/toolchest\n"
     ]
    }
   ],
   "source": [
    "!pwd"
   ]
  },
  {
   "cell_type": "code",
   "execution_count": 8,
   "metadata": {},
   "outputs": [
    {
     "name": "stdout",
     "output_type": "stream",
     "text": [
      "   Telematics Unit ID  Serial Number Custom Name                VIN  \\\n",
      "0    FFFF948DEBD05602   1.002010e+11       T5-24  5PVNE8JT3L5S57854   \n",
      "1    FEB6035E2DB12505   1.020300e+11     RT33-16  JALE5W168N7304526   \n",
      "2    EC8F460FBAC17602   1.002010e+11      T23-16  JALE5W162N7301315   \n",
      "3    E6A4073D4EE7EE02   1.002010e+11      T10-16  JALE5W166N7300524   \n",
      "4    E36636F99C010602   1.002010e+11       T9-24  5PVNE8JT0L5S57858   \n",
      "..                ...            ...         ...                ...   \n",
      "57   112063395998F705   1.020300e+11      T28-16  JALE5W160N7304360   \n",
      "58   10157BC7071EBC05   1.020300e+11       T10-8  JALC4W161N7014106   \n",
      "59   0D9E1A0D8A9E4B05   1.020300e+11      T25-16  JALE5W162N7304496   \n",
      "60   0A8A2A1D0E6F1E02   1.002010e+11      T15-24  54DK6S16XLSG70041   \n",
      "61   0A2D1C6F8A0E7F02   1.002010e+11       T7-24  5PVNE8JT7L5S57856   \n",
      "\n",
      "   License Plate               Position   Latitude    Longitude  \n",
      "0         06AFSP   40.764492 -73.201912  40.764492   -73.201912  \n",
      "1     TEMP 33-16   27.994421 -82.354805  27.994421   -82.354805  \n",
      "2         BK48AM  34.090591 -117.953773  34.090591  -117.953773  \n",
      "3         BK29AM    40.73077 -73.950691   40.73077   -73.950691  \n",
      "4         04AFSP   31.511646 -97.174965  31.511646   -97.174965  \n",
      "..           ...                    ...        ...          ...  \n",
      "57        BK57AM   40.764492 -73.201393  40.764492   -73.201393  \n",
      "58        BK38AM  34.090549 -117.953728  34.090549  -117.953728  \n",
      "59        BK55AM    35.398155 -80.69738  35.398155    -80.69738  \n",
      "60        BK31AM   35.165852 -80.945396  35.165852   -80.945396  \n",
      "61        12AFSP    35.398155 -80.69738  35.398155    -80.69738  \n",
      "\n",
      "[62 rows x 8 columns]\n"
     ]
    }
   ],
   "source": [
    "import pandas as pd\n",
    "csv_file = '../toolchest/inversremovals.csv'\n",
    "\n",
    "df = pd.read_csv(csv_file)\n",
    "# split the 'Poistion' column into two new columns, 'Latitude', 'Longitude'\n",
    "df[['Latitude', 'Longitude']] = df['Position'].str.split(' ', expand=True)\n",
    "# can i add the above to the\n",
    "\n",
    "# drop the 'Position' column and add the new columns the the existing datafame\n",
    "\n",
    "# print(df)\n",
    "print(df)\n",
    "\n",
    "df.to_csv('inversremovalslist.csv', index=False)"
   ]
  },
  {
   "cell_type": "code",
   "execution_count": 12,
   "metadata": {},
   "outputs": [],
   "source": [
    "import pandas as pd\n",
    "import geocoder\n",
    "\n",
    "def get_location(row):\n",
    "    lat, lon = row['Latitude'], row['Longitude']\n",
    "    g = geocoder.osm([lat, lon], method='reverse')\n",
    "    return g.address\n",
    "\n",
    "df = pd.read_csv('../toolchest/inversremovals.csv')\n",
    "df[['Latitude', 'Longitude']] = df['Position'].str.split(' ', expand=True)\n",
    "df['Address'] = df.apply(get_location, axis=1)\n",
    "df.to_csv('your_file_with_addresses.csv', index=False)\n"
   ]
  },
  {
   "cell_type": "code",
   "execution_count": 15,
   "metadata": {},
   "outputs": [
    {
     "name": "stdout",
     "output_type": "stream",
     "text": [
      "DataFrame has been exported to ../toolchest/inversremovals_with_address2.csv\n"
     ]
    }
   ],
   "source": [
    "import pandas as pd\n",
    "import geocoder\n",
    "\n",
    "def add_address_details(df):\n",
    "    addresses = []\n",
    "    city = []\n",
    "    state = []\n",
    "    country = []\n",
    "    \n",
    "    for index, row in df.iterrows():\n",
    "        lat, lon = row['Latitude'], row['Longitude']\n",
    "        g = geocoder.osm([lat, lon], method='reverse')\n",
    "        \n",
    "        if g and g.ok:\n",
    "            addresses.append(g.address)\n",
    "            city.append(g.city)\n",
    "            state.append(g.state)\n",
    "            country.append(g.country)\n",
    "        else:\n",
    "            addresses.append(None)\n",
    "            city.append(None)\n",
    "            state.append(None)\n",
    "            country.append(None)\n",
    "    \n",
    "    df['Address_Details'] = addresses\n",
    "    df['City'] = city\n",
    "    df['State'] = state\n",
    "    df['Country'] = country\n",
    "    \n",
    "    return df\n",
    "\n",
    "# Your existing code to read the CSV and split the 'Position' column\n",
    "csv_file = '../toolchest/inversremovals.csv'\n",
    "df = pd.read_csv(csv_file)\n",
    "df[['Latitude', 'Longitude']] = df['Position'].str.split(' ', expand=True)\n",
    "df.drop('Position', axis=1, inplace=True)\n",
    "\n",
    "# Add address details to the DataFrame\n",
    "df_with_address = add_address_details(df)\n",
    "\n",
    "# Export the DataFrame to a new CSV file\n",
    "output_csv_file = '../toolchest/inversremovals_with_address2.csv'\n",
    "df_with_address.to_csv(output_csv_file, index=False)\n",
    "print(f\"DataFrame has been exported to {output_csv_file}\")\n"
   ]
  },
  {
   "cell_type": "code",
   "execution_count": null,
   "metadata": {},
   "outputs": [],
   "source": [
    "# import googlemaps\n",
    "\n",
    "# gmaps = googlemaps.Client(key='')\n",
    "# reverse_geocode_result = gmaps.reverse_geocode((lat, lon))\n"
   ]
  },
  {
   "cell_type": "code",
   "execution_count": null,
   "metadata": {},
   "outputs": [],
   "source": [
    "maps_api_key = ''"
   ]
  },
  {
   "cell_type": "code",
   "execution_count": 7,
   "metadata": {},
   "outputs": [
    {
     "name": "stdout",
     "output_type": "stream",
     "text": [
      "None\n"
     ]
    }
   ],
   "source": [
    "import pandas as pd\n",
    "from geopy.geocoders import Nominatim\n",
    "\n",
    "def add_address_details(df):\n",
    "    geolocator = Nominatim(user_agent=\"invers_lookup\")\n",
    "    addresses = []\n",
    "    \n",
    "# Copy code\n",
    "import time\n",
    "def do_geocode(geolocator, lat, lon, max_retries=5):\n",
    "    # In your loop\n",
    "    for index, row in df.iterrows():\n",
    "        lat, lon = row['Latitude'], row['Longitude']\n",
    "        location = do_geocode(geolocator, lat, lon)\n",
    "        time.sleep(1)  # sleep for 1 second\n",
    "        # rest of your code\n",
    "        if location and location.raw.get('address'):\n",
    "            addresses.append(location.raw['address'])\n",
    "            print(location.raw['address'])\n",
    "        else:\n",
    "            addresses.append(None)\n",
    "    \n",
    "    df['Address_Details'] = addresses\n",
    "    return df\n",
    "\n",
    "# Your existing code to read the CSV and split the 'Position' column\n",
    "csv_file = '../pds/toolchest/inversremovals.csv'\n",
    "df = pd.read_csv(csv_file)\n",
    "df[['Latitude', 'Longitude']] = df['Position'].str.split(' ', expand=True)\n",
    "df.drop('Position', axis=1, inplace=True)\n",
    "\n",
    "# Add address details to the DataFrame\n",
    "df_with_address = add_address_details(df)\n",
    "print(df_with_address)\n"
   ]
  },
  {
   "cell_type": "code",
   "execution_count": null,
   "metadata": {},
   "outputs": [],
   "source": []
  }
 ],
 "metadata": {
  "kernelspec": {
   "display_name": "tt_env",
   "language": "python",
   "name": "python3"
  },
  "language_info": {
   "codemirror_mode": {
    "name": "ipython",
    "version": 3
   },
   "file_extension": ".py",
   "mimetype": "text/x-python",
   "name": "python",
   "nbconvert_exporter": "python",
   "pygments_lexer": "ipython3",
   "version": "3.10.13"
  }
 },
 "nbformat": 4,
 "nbformat_minor": 2
}
